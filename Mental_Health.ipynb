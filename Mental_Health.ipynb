{
 "cells": [
  {
   "cell_type": "code",
   "execution_count": 100,
   "metadata": {},
   "outputs": [],
   "source": [
    "#Code Preface\n",
    "import numpy as np\n",
    "import seaborn as sns\n",
    "import pandas as pd\n",
    "import matplotlib.pyplot as plt"
   ]
  },
  {
   "cell_type": "code",
   "execution_count": 101,
   "metadata": {},
   "outputs": [],
   "source": [
    "data2016 = pd.read_csv(\"2016.csv\")"
   ]
  },
  {
   "cell_type": "code",
   "execution_count": 102,
   "metadata": {},
   "outputs": [
    {
     "data": {
      "text/plain": [
       "(1433, 63)"
      ]
     },
     "execution_count": 102,
     "metadata": {},
     "output_type": "execute_result"
    }
   ],
   "source": [
    "data2016.shape"
   ]
  },
  {
   "cell_type": "code",
   "execution_count": 103,
   "metadata": {},
   "outputs": [
    {
     "data": {
      "text/plain": [
       "Index(['Are you self-employed?',\n",
       "       'How many employees does your company or organization have?',\n",
       "       'Is your employer primarily a tech company/organization?',\n",
       "       'Is your primary role within your company related to tech/IT?',\n",
       "       'Does your employer provide mental health benefits as part of healthcare coverage?',\n",
       "       'Do you know the options for mental health care available under your employer-provided coverage?',\n",
       "       'Has your employer ever formally discussed mental health (for example, as part of a wellness campaign or other official communication)?',\n",
       "       'Does your employer offer resources to learn more about mental health concerns and options for seeking help?',\n",
       "       'Is your anonymity protected if you choose to take advantage of mental health or substance abuse treatment resources provided by your employer?',\n",
       "       'If a mental health issue prompted you to request a medical leave from work, asking for that leave would be:',\n",
       "       'Do you think that discussing a mental health disorder with your employer would have negative consequences?',\n",
       "       'Do you think that discussing a physical health issue with your employer would have negative consequences?',\n",
       "       'Would you feel comfortable discussing a mental health disorder with your coworkers?',\n",
       "       'Would you feel comfortable discussing a mental health disorder with your direct supervisor(s)?',\n",
       "       'Do you feel that your employer takes mental health as seriously as physical health?',\n",
       "       'Have you heard of or observed negative consequences for co-workers who have been open about mental health issues in your workplace?',\n",
       "       'Do you have medical coverage (private insurance or state-provided) which includes treatment of  mental health issues?',\n",
       "       'Do you know local or online resources to seek help for a mental health disorder?',\n",
       "       'If you have been diagnosed or treated for a mental health disorder, do you ever reveal this to clients or business contacts?',\n",
       "       'If you have revealed a mental health issue to a client or business contact, do you believe this has impacted you negatively?',\n",
       "       'If you have been diagnosed or treated for a mental health disorder, do you ever reveal this to coworkers or employees?',\n",
       "       'If you have revealed a mental health issue to a coworker or employee, do you believe this has impacted you negatively?',\n",
       "       'Do you believe your productivity is ever affected by a mental health issue?',\n",
       "       'If yes, what percentage of your work time (time performing primary or secondary job functions) is affected by a mental health issue?',\n",
       "       'Do you have previous employers?',\n",
       "       'Have your previous employers provided mental health benefits?',\n",
       "       'Were you aware of the options for mental health care provided by your previous employers?',\n",
       "       'Did your previous employers ever formally discuss mental health (as part of a wellness campaign or other official communication)?',\n",
       "       'Did your previous employers provide resources to learn more about mental health issues and how to seek help?',\n",
       "       'Was your anonymity protected if you chose to take advantage of mental health or substance abuse treatment resources with previous employers?',\n",
       "       'Do you think that discussing a mental health disorder with previous employers would have negative consequences?',\n",
       "       'Do you think that discussing a physical health issue with previous employers would have negative consequences?',\n",
       "       'Would you have been willing to discuss a mental health issue with your previous co-workers?',\n",
       "       'Would you have been willing to discuss a mental health issue with your direct supervisor(s)?',\n",
       "       'Did you feel that your previous employers took mental health as seriously as physical health?',\n",
       "       'Did you hear of or observe negative consequences for co-workers with mental health issues in your previous workplaces?',\n",
       "       'Would you be willing to bring up a physical health issue with a potential employer in an interview?',\n",
       "       'Why or why not?',\n",
       "       'Would you bring up a mental health issue with a potential employer in an interview?',\n",
       "       'Why or why not?.1',\n",
       "       'Do you feel that being identified as a person with a mental health issue would hurt your career?',\n",
       "       'Do you think that team members/co-workers would view you more negatively if they knew you suffered from a mental health issue?',\n",
       "       'How willing would you be to share with friends and family that you have a mental illness?',\n",
       "       'Have you observed or experienced an unsupportive or badly handled response to a mental health issue in your current or previous workplace?',\n",
       "       'Have your observations of how another individual who discussed a mental health disorder made you less likely to reveal a mental health issue yourself in your current workplace?',\n",
       "       'Do you have a family history of mental illness?',\n",
       "       'Have you had a mental health disorder in the past?',\n",
       "       'Do you currently have a mental health disorder?',\n",
       "       'If yes, what condition(s) have you been diagnosed with?',\n",
       "       'If maybe, what condition(s) do you believe you have?',\n",
       "       'Have you been diagnosed with a mental health condition by a medical professional?',\n",
       "       'If so, what condition(s) were you diagnosed with?',\n",
       "       'Have you ever sought treatment for a mental health issue from a mental health professional?',\n",
       "       'If you have a mental health issue, do you feel that it interferes with your work when being treated effectively?',\n",
       "       'If you have a mental health issue, do you feel that it interferes with your work when NOT being treated effectively?',\n",
       "       'What is your age?', 'What is your gender?',\n",
       "       'What country do you live in?',\n",
       "       'What US state or territory do you live in?',\n",
       "       'What country do you work in?',\n",
       "       'What US state or territory do you work in?',\n",
       "       'Which of the following best describes your work position?',\n",
       "       'Do you work remotely?'],\n",
       "      dtype='object')"
      ]
     },
     "execution_count": 103,
     "metadata": {},
     "output_type": "execute_result"
    }
   ],
   "source": [
    "data2016.columns"
   ]
  },
  {
   "cell_type": "code",
   "execution_count": 104,
   "metadata": {},
   "outputs": [],
   "source": [
    "data2017 = pd.read_csv(\"2017.csv\")"
   ]
  },
  {
   "cell_type": "code",
   "execution_count": 105,
   "metadata": {},
   "outputs": [],
   "source": [
    "data2017.drop(columns=\"#\", inplace=True)"
   ]
  },
  {
   "cell_type": "code",
   "execution_count": 106,
   "metadata": {},
   "outputs": [],
   "source": [
    "data2017.columns = data2017.columns.str.replace('<strong>', '').str.replace('</strong>', '')"
   ]
  },
  {
   "cell_type": "code",
   "execution_count": 107,
   "metadata": {},
   "outputs": [
    {
     "data": {
      "text/plain": [
       "(756, 122)"
      ]
     },
     "execution_count": 107,
     "metadata": {},
     "output_type": "execute_result"
    }
   ],
   "source": [
    "data2017.shape"
   ]
  },
  {
   "cell_type": "code",
   "execution_count": 108,
   "metadata": {},
   "outputs": [],
   "source": [
    "data2017.drop(columns=[\"Other.3\", \"Start Date (UTC)\", \"Submit Date (UTC)\", \"Network ID\"], inplace=True)"
   ]
  },
  {
   "cell_type": "code",
   "execution_count": 109,
   "metadata": {},
   "outputs": [
    {
     "data": {
      "text/plain": [
       "Index(['Are you self-employed?',\n",
       "       'How many employees does your company or organization have?',\n",
       "       'Is your employer primarily a tech company/organization?',\n",
       "       'Is your primary role within your company related to tech/IT?',\n",
       "       'Does your employer provide mental health benefits as part of healthcare coverage?',\n",
       "       'Do you know the options for mental health care available under your employer-provided health coverage?',\n",
       "       'Has your employer ever formally discussed mental health (for example, as part of a wellness campaign or other official communication)?',\n",
       "       'Does your employer offer resources to learn more about mental health disorders and options for seeking help?',\n",
       "       'Is your anonymity protected if you choose to take advantage of mental health or substance abuse treatment resources provided by your employer?',\n",
       "       'If a mental health issue prompted you to request a medical leave from work, how easy or difficult would it be to ask for that leave?',\n",
       "       ...\n",
       "       'Briefly describe what you think the industry as a whole and/or employers could do to improve mental health support for employees.',\n",
       "       'If there is anything else you would like to tell us that has not been covered by the survey questions, please use this space to do so.',\n",
       "       'Would you be willing to talk to one of us more extensively about your experiences with mental health issues in the tech industry? (Note that all interview responses would be used <em>anonymously</em> and only with your permission.)',\n",
       "       'What is your age?', 'What is your gender?',\n",
       "       'What country do you live in?',\n",
       "       'What US state or territory do you live in?', 'What is your race?',\n",
       "       'What country do you work in?',\n",
       "       'What US state or territory do you work in?'],\n",
       "      dtype='object', length=118)"
      ]
     },
     "execution_count": 109,
     "metadata": {},
     "output_type": "execute_result"
    }
   ],
   "source": [
    "data2017.columns"
   ]
  },
  {
   "cell_type": "code",
   "execution_count": 110,
   "metadata": {},
   "outputs": [],
   "source": [
    "data2018 = pd.read_csv(\"2018.csv\")"
   ]
  },
  {
   "cell_type": "code",
   "execution_count": 111,
   "metadata": {},
   "outputs": [],
   "source": [
    "data2018.drop(columns=\"#\", inplace=True)"
   ]
  },
  {
   "cell_type": "code",
   "execution_count": 112,
   "metadata": {},
   "outputs": [],
   "source": [
    "data2018.columns = data2018.columns.str.replace('<strong>', '').str.replace('</strong>', '')"
   ]
  },
  {
   "cell_type": "code",
   "execution_count": 113,
   "metadata": {},
   "outputs": [
    {
     "data": {
      "text/plain": [
       "(417, 122)"
      ]
     },
     "execution_count": 113,
     "metadata": {},
     "output_type": "execute_result"
    }
   ],
   "source": [
    "data2018.shape"
   ]
  },
  {
   "cell_type": "code",
   "execution_count": 114,
   "metadata": {},
   "outputs": [],
   "source": [
    "data2018.drop(columns=[\"Other.3\", \"Start Date (UTC)\", \"Submit Date (UTC)\", \"Network ID\"], inplace=True)"
   ]
  },
  {
   "cell_type": "code",
   "execution_count": 115,
   "metadata": {},
   "outputs": [
    {
     "data": {
      "text/plain": [
       "Index(['Are you self-employed?',\n",
       "       'How many employees does your company or organization have?',\n",
       "       'Is your employer primarily a tech company/organization?',\n",
       "       'Is your primary role within your company related to tech/IT?',\n",
       "       'Does your employer provide mental health benefits as part of healthcare coverage?',\n",
       "       'Do you know the options for mental health care available under your employer-provided health coverage?',\n",
       "       'Has your employer ever formally discussed mental health (for example, as part of a wellness campaign or other official communication)?',\n",
       "       'Does your employer offer resources to learn more about mental health disorders and options for seeking help?',\n",
       "       'Is your anonymity protected if you choose to take advantage of mental health or substance abuse treatment resources provided by your employer?',\n",
       "       'If a mental health issue prompted you to request a medical leave from work, how easy or difficult would it be to ask for that leave?',\n",
       "       ...\n",
       "       'Briefly describe what you think the industry as a whole and/or employers could do to improve mental health support for employees.',\n",
       "       'If there is anything else you would like to tell us that has not been covered by the survey questions, please use this space to do so.',\n",
       "       'Would you be willing to talk to one of us more extensively about your experiences with mental health issues in the tech industry? (Note that all interview responses would be used <em>anonymously</em> and only with your permission.)',\n",
       "       'What is your age?', 'What is your gender?',\n",
       "       'What country do you live in?',\n",
       "       'What US state or territory do you live in?', 'What is your race?',\n",
       "       'What country do you work in?',\n",
       "       'What US state or territory do you work in?'],\n",
       "      dtype='object', length=118)"
      ]
     },
     "execution_count": 115,
     "metadata": {},
     "output_type": "execute_result"
    }
   ],
   "source": [
    "data2018.columns"
   ]
  },
  {
   "cell_type": "code",
   "execution_count": 116,
   "metadata": {},
   "outputs": [],
   "source": [
    "data2019 = pd.read_csv(\"2019.csv\")"
   ]
  },
  {
   "cell_type": "code",
   "execution_count": 117,
   "metadata": {},
   "outputs": [
    {
     "data": {
      "text/plain": [
       "(352, 82)"
      ]
     },
     "execution_count": 117,
     "metadata": {},
     "output_type": "execute_result"
    }
   ],
   "source": [
    "data2019.shape"
   ]
  },
  {
   "cell_type": "code",
   "execution_count": 118,
   "metadata": {},
   "outputs": [],
   "source": [
    "data2019.columns = data2019.columns.str.replace('*', '')"
   ]
  },
  {
   "cell_type": "code",
   "execution_count": 119,
   "metadata": {},
   "outputs": [
    {
     "data": {
      "text/plain": [
       "Index(['Are you self-employed?',\n",
       "       'How many employees does your company or organization have?',\n",
       "       'Is your employer primarily a tech company/organization?',\n",
       "       'Is your primary role within your company related to tech/IT?',\n",
       "       'Does your employer provide mental health benefits as part of healthcare coverage?',\n",
       "       'Do you know the options for mental health care available under your employer-provided health coverage?',\n",
       "       'Has your employer ever formally discussed mental health (for example, as part of a wellness campaign or other official communication)?',\n",
       "       'Does your employer offer resources to learn more about mental health disorders and options for seeking help?',\n",
       "       'Is your anonymity protected if you choose to take advantage of mental health or substance abuse treatment resources provided by your employer?',\n",
       "       'If a mental health issue prompted you to request a medical leave from work, how easy or difficult would it be to ask for that leave?',\n",
       "       'Would you feel more comfortable talking to your coworkers about your physical health or your mental health?',\n",
       "       'Would you feel comfortable discussing a mental health issue with your direct supervisor(s)?',\n",
       "       'Have you ever discussed your mental health with your employer?',\n",
       "       'Describe the conversation you had with your employer about your mental health, including their reactions and what actions were taken to address your mental health issue/questions.',\n",
       "       'Would you feel comfortable discussing a mental health issue with your coworkers?',\n",
       "       'Have you ever discussed your mental health with coworkers?',\n",
       "       'Describe the conversation with coworkers you had about your mental health including their reactions.',\n",
       "       'Have you ever had a coworker discuss their or another coworker's mental health with you?',\n",
       "       'Describe the conversation your coworker had with you about their mental health (please do not use names).',\n",
       "       'Overall, how much importance does your employer place on physical health?',\n",
       "       'Overall, how much importance does your employer place on mental health?',\n",
       "       'Do you have medical coverage (private insurance or state-provided) that includes treatment of mental health disorders?',\n",
       "       'Do you know local or online resources to seek help for a mental health issue?',\n",
       "       'If you have been diagnosed or treated for a mental health disorder, do you ever reveal this to clients or business contacts?',\n",
       "       'If you have revealed a mental health disorder to a client or business contact, how has this affected you or the relationship?',\n",
       "       'If you have been diagnosed or treated for a mental health disorder, do you ever reveal this to coworkers or employees?',\n",
       "       'If you have revealed a mental health disorder to a coworker or employee, how has this impacted you or the relationship?',\n",
       "       'Do you believe your productivity is ever affected by a mental health issue?',\n",
       "       'If yes, what percentage of your work time (time performing primary or secondary job functions) is affected by a mental health issue?',\n",
       "       'Do you have previous employers?',\n",
       "       'Was your employer primarily a tech company/organization?',\n",
       "       'Have your previous employers provided mental health benefits?',\n",
       "       'Were you aware of the options for mental health care provided by your previous employers?',\n",
       "       'Did your previous employers ever formally discuss mental health (as part of a wellness campaign or other official communication)?',\n",
       "       'Did your previous employers provide resources to learn more about mental health disorders and how to seek help?',\n",
       "       'Was your anonymity protected if you chose to take advantage of mental health or substance abuse treatment resources with previous employers?',\n",
       "       'Would you have felt more comfortable talking to your previous employer about your physical health or your mental health?',\n",
       "       'Would you have been willing to discuss your mental health with your direct supervisor(s)?',\n",
       "       'Did you ever discuss your mental health with your previous employer?',\n",
       "       'Describe the conversation you had with your previous employer about your mental health, including their reactions and actions taken to address your mental health issue/questions.',\n",
       "       'Would you have been willing to discuss your mental health with your coworkers at previous employers?',\n",
       "       'Did you ever discuss your mental health with a previous coworker(s)?',\n",
       "       'Describe the conversation you had with your previous coworkers about your mental health including their reactions.',\n",
       "       'Did you ever have a previous coworker discuss their or another coworker's mental health with you?',\n",
       "       'Describe the conversation your coworker had with you about their mental health (please do not use names)..1',\n",
       "       'Overall, how much importance did your previous employer place on physical health?',\n",
       "       'Overall, how much importance did your previous employer place on mental health?',\n",
       "       'Do you currently have a mental health disorder?',\n",
       "       'Have you ever been diagnosed with a mental health disorder?',\n",
       "       'What disorder(s) have you been diagnosed with?',\n",
       "       'If possibly, what disorder(s) do you believe you have?',\n",
       "       'If so, what disorder(s) were you diagnosed with?',\n",
       "       'Have you had a mental health disorder in the past?',\n",
       "       'Have you ever sought treatment for a mental health disorder from a mental health professional?',\n",
       "       'Do you have a family history of mental illness?',\n",
       "       'If you have a mental health disorder, how often do you feel that it interferes with your work when being treated effectively?',\n",
       "       'If you have a mental health disorder, how often do you feel that it interferes with your work when _NOT_ being treated effectively (i.e., when you are experiencing symptoms)?',\n",
       "       'Have your observations of how another individual who discussed a mental health issue made you less likely to reveal a mental health issue yourself in your current workplace?',\n",
       "       'How willing would you be to share with friends and family that you have a mental illness?',\n",
       "       'Would you be willing to bring up a physical health issue with a potential employer in an interview?',\n",
       "       'Why or why not?',\n",
       "       'Would you bring up your mental health with a potential employer in an interview?',\n",
       "       'Why or why not?.1',\n",
       "       'Are you openly identified at work as a person with a mental health issue?',\n",
       "       'Has being identified as a person with a mental health issue affected your career?',\n",
       "       'How has it affected your career?',\n",
       "       'If they knew you suffered from a mental health disorder, how do you think that your team members/co-workers would react?',\n",
       "       'Have you observed or experienced an unsupportive or badly handled response to a mental health issue in your current or previous workplace?',\n",
       "       'Describe the circumstances of the badly handled or unsupportive response.',\n",
       "       'Have you observed or experienced a supportive or well handled response to a mental health issue in your current or previous workplace?',\n",
       "       'Describe the circumstances of the supportive or well handled response.',\n",
       "       'Overall, how well do you think the tech industry supports employees with mental health issues?',\n",
       "       'Briefly describe what you think the industry as a whole and/or employers could do to improve mental health support for employees.',\n",
       "       'If there is anything else you would like to tell us that has not been covered by the survey questions, please use this space to do so.',\n",
       "       'Would you be willing to talk to one of us more extensively about your experiences with mental health issues in the tech industry? (Note that all interview responses would be used _anonymously_ and only with your permission.)',\n",
       "       'What is your age?', 'What is your gender?',\n",
       "       'What country do you live in?',\n",
       "       'What US state or territory do you live in?', 'What is your race?',\n",
       "       'What country do you work in?',\n",
       "       'What US state or territory do you work in?'],\n",
       "      dtype='object')"
      ]
     },
     "execution_count": 119,
     "metadata": {},
     "output_type": "execute_result"
    }
   ],
   "source": [
    "data2019.columns"
   ]
  },
  {
   "cell_type": "code",
   "execution_count": 120,
   "metadata": {},
   "outputs": [],
   "source": [
    "data=pd.concat([data2016, data2017], join='inner')\n",
    "data2=pd.concat([data, data2018], join='inner')\n",
    "data3=pd.concat([data2, data2019], join='inner')"
   ]
  },
  {
   "cell_type": "code",
   "execution_count": 121,
   "metadata": {},
   "outputs": [
    {
     "data": {
      "text/plain": [
       "(2958, 29)"
      ]
     },
     "execution_count": 121,
     "metadata": {},
     "output_type": "execute_result"
    }
   ],
   "source": [
    "data3.shape"
   ]
  },
  {
   "cell_type": "code",
   "execution_count": 122,
   "metadata": {},
   "outputs": [
    {
     "data": {
      "text/plain": [
       "Index(['Are you self-employed?',\n",
       "       'How many employees does your company or organization have?',\n",
       "       'Is your employer primarily a tech company/organization?',\n",
       "       'Is your primary role within your company related to tech/IT?',\n",
       "       'Has your employer ever formally discussed mental health (for example, as part of a wellness campaign or other official communication)?',\n",
       "       'Is your anonymity protected if you choose to take advantage of mental health or substance abuse treatment resources provided by your employer?',\n",
       "       'If you have been diagnosed or treated for a mental health disorder, do you ever reveal this to clients or business contacts?',\n",
       "       'If you have been diagnosed or treated for a mental health disorder, do you ever reveal this to coworkers or employees?',\n",
       "       'Do you believe your productivity is ever affected by a mental health issue?',\n",
       "       'If yes, what percentage of your work time (time performing primary or secondary job functions) is affected by a mental health issue?',\n",
       "       'Do you have previous employers?',\n",
       "       'Have your previous employers provided mental health benefits?',\n",
       "       'Were you aware of the options for mental health care provided by your previous employers?',\n",
       "       'Did your previous employers ever formally discuss mental health (as part of a wellness campaign or other official communication)?',\n",
       "       'Was your anonymity protected if you chose to take advantage of mental health or substance abuse treatment resources with previous employers?',\n",
       "       'Would you be willing to bring up a physical health issue with a potential employer in an interview?',\n",
       "       'Why or why not?', 'Why or why not?.1',\n",
       "       'How willing would you be to share with friends and family that you have a mental illness?',\n",
       "       'Have you observed or experienced an unsupportive or badly handled response to a mental health issue in your current or previous workplace?',\n",
       "       'Do you have a family history of mental illness?',\n",
       "       'Have you had a mental health disorder in the past?',\n",
       "       'Do you currently have a mental health disorder?', 'What is your age?',\n",
       "       'What is your gender?', 'What country do you live in?',\n",
       "       'What US state or territory do you live in?',\n",
       "       'What country do you work in?',\n",
       "       'What US state or territory do you work in?'],\n",
       "      dtype='object')"
      ]
     },
     "execution_count": 122,
     "metadata": {},
     "output_type": "execute_result"
    }
   ],
   "source": [
    "data3.columns"
   ]
  },
  {
   "cell_type": "code",
   "execution_count": 123,
   "metadata": {},
   "outputs": [],
   "source": [
    "mental_health=data3"
   ]
  },
  {
   "cell_type": "code",
   "execution_count": 124,
   "metadata": {},
   "outputs": [],
   "source": [
    "# Column rename\n",
    "renamed_columns = ['self_empl_flag', 'comp_no_empl', 'tech_comp_flag', 'tech_role_flag','mh_employer_discussion', \n",
    "                   'mh_anonimity_flag', 'mh_diagnosed&reveal_clients_flag', 'mh_diagnosed&reveal_cowork_flag', \n",
    "                  'mh_prod_impact', 'mh_prod_impact_perc', \n",
    "                   'prev_employers_flag', 'prev_mh_benefits', 'prev_mh_benefits_awareness',\n",
    "                  'prev_mh_discussion', 'prev_mh_anonimity', \n",
    "                  'future_ph_specification', 'why/why_not', 'why/why_not2', \n",
    "                  'mh_sharing_friends/fam_flag', 'mh_bad_response_workplace', 'mh_family_hist',\n",
    "                  'mh_disorder_past', 'mh_disorder_current',\n",
    "                  'age', 'sex', 'country_live', 'live_us_teritory', 'country_work', 'work_us_teritory']\n",
    "mental_health.columns = renamed_columns"
   ]
  },
  {
   "cell_type": "code",
   "execution_count": 125,
   "metadata": {},
   "outputs": [],
   "source": [
    "mental_health.drop(columns=\"why/why_not2\", inplace=True)"
   ]
  },
  {
   "cell_type": "code",
   "execution_count": 138,
   "metadata": {},
   "outputs": [
    {
     "data": {
      "text/plain": [
       "(2958, 28)"
      ]
     },
     "execution_count": 138,
     "metadata": {},
     "output_type": "execute_result"
    }
   ],
   "source": [
    "mental_health.shape"
   ]
  },
  {
   "cell_type": "code",
   "execution_count": 152,
   "metadata": {},
   "outputs": [],
   "source": [
    "# Sex column needs to be recoded\n",
    "mental_health['sex'].replace(to_replace = ['Male', 'male', 'Male ', 'M', 'm', 'nan','cis-male', 'Mail', 'male/androgynous ',\n",
    "       'cis hetero male','SWM','CIS Male',\n",
    "       'man', 'Cis male', 'Male.', 'male 9:1 female, roughly', 'Male (cis)', 'Man', 'Sex is male',\n",
    "       'cis male', 'Malr', 'Dude', \"I'm a man why didn't you make this a drop down question. You should of asked sex? And I would of answered yes please. Seriously how much text can this take? \",\n",
    "       'mail', 'M|', 'Male/genderqueer', 'male ',\"male (hey this is the tech industry you're talking about)\",\n",
    "       'Cis Male', 'Male (trans, FtM)','God King of the Valajar','Cis-male', 'Male, cis', 'cis male ','Male-ish',\n",
    "       'dude', 'Ostensibly Male', 'Trans man', 'Demiguy','Cisgender male','Let\\'s keep it simple and say \"male\"', 'Identify as male',\n",
    "       'Masculine', 'Cishet male','I have a penis','masculino', 'Make',\n",
    "       'male, born with xy chromosoms', 'Malel',\n",
    "       'cisdude', 'cis man', 'MALE'], value = 1, inplace = True)\n",
    "\n",
    "mental_health['sex'].replace(to_replace = ['Female', 'female', 'I identify as female.', 'female ', 'Femile',\n",
    "       'Female assigned at birth ', 'F', 'Woman', 'fm', 'f', 'Cis female ', 'Transitioned, M2F', 'Female (cis)',\n",
    "       'Genderfluid (born female)', 'Female or Multi-Gender Femme', 'Female ', 'woman', 'female/woman',\n",
    "       'Cisgender Female', 'fem', 'Female (props for making this a freeform field, though)', 'female (cis)',\n",
    "       ' Female', 'Cis-woman', 'female-bodied; no feelings about gender','femalw', 'femail','My sex is female.',\n",
    "       'female (cisgender)', 'Female (cis) ', 'Woman-identified','cis-Female', 'cis female','She/her/they/them',\n",
    "       'F, cisgender', 'Female-ish',  'trans woman', 'I identify as female','Trans female',\n",
    "       '*shrug emoji* (F)','Cis woman', 'Female (cisgender)', 'Cis-Female','cisgender female',\n",
    "       'Cisgendered woman', 'Trans woman', 'gender non-conforming woman','Female-identified',\n",
    "       'Transfeminine','cis woman',\n",
    "       'Agender trans woman', 'femmina',\n",
    "       'AFAB'], value = 2, inplace = True)\n",
    "\n",
    "mental_health['sex'].replace(to_replace = ['Bigender', 'non-binary', 'Other/Transfeminine',\n",
    "       'Androgynous', 'Other', 'nb masculine', 'Non-binary and gender fluid','Non-binary',\n",
    "       'none of your business', 'genderqueer', 'Human', 'Genderfluid','Agender/genderfluid',  'sometimes',\n",
    "       'Enby', 'genderqueer woman', 'mtf', 'Queer', 'Agender', 'Fluid','Contextual', 'Non binary', 'Genderqueer demigirl',\n",
    "       'Genderqueer/non-binary','nonbinary','\\\\-','None', 'Male (or female, or both)', 'NB', 'Nonbinary/femme',\n",
    "       'transgender', 'non binary', 'Female/gender non-binary.','none','genderfluid','agender',\n",
    "       'Questioning','rr','I am a Wookie','43','Trans non-binary/genderfluid','Non-binary and gender fluid',\n",
    "       'Nonbinary', 'human', 'Unicorn', 'Genderqueer','uhhhhhhhhh fem genderqueer?',\n",
    "       'Genderflux demi-girl', 'Transgender woman'], value = 3, inplace = True)"
   ]
  },
  {
   "cell_type": "code",
   "execution_count": 154,
   "metadata": {},
   "outputs": [],
   "source": [
    "# Recode Comp size & country columns (for ease when doing plots)\n",
    "mental_health['comp_no_empl'].replace(to_replace = ['More than 1000'], value = '>1000', inplace = True)\n",
    "mental_health['country_live'].replace(to_replace = ['United States of America'], value = 'USA', inplace = True)\n",
    "mental_health['country_live'].replace(to_replace = ['United Kingdom'], value = 'UK', inplace = True)\n",
    "mental_health['country_work'].replace(to_replace = ['United States of America'], value = 'USA', inplace = True)\n",
    "mental_health['country_work'].replace(to_replace = ['United Kingdom'], value = 'UK', inplace = True)"
   ]
  },
  {
   "cell_type": "code",
   "execution_count": 155,
   "metadata": {},
   "outputs": [],
   "source": [
    "\n",
    "# These people will take the average age of the dataset (the correct calculated one, w/out outliers)\n",
    "mean_age = mental_health[(mental_health['age'] >= 18) | (mental_health['age'] <= 75)]['age'].mean()\n",
    "mental_health['age'].replace(to_replace = mental_health[(mental_health['age'] < 18) | (mental_health['age'] > 75)]['age'].tolist(),\n",
    "                          value = mean_age, inplace = True)"
   ]
  },
  {
   "cell_type": "code",
   "execution_count": 156,
   "metadata": {},
   "outputs": [
    {
     "data": {
      "text/plain": [
       "self_empl_flag                         0\n",
       "comp_no_empl                         504\n",
       "tech_comp_flag                       504\n",
       "tech_role_flag                      1387\n",
       "mh_employer_discussion               504\n",
       "mh_anonimity_flag                    504\n",
       "mh_diagnosed&reveal_clients_flag    2454\n",
       "mh_diagnosed&reveal_cowork_flag     2454\n",
       "mh_prod_impact                      2454\n",
       "mh_prod_impact_perc                 2591\n",
       "prev_employers_flag                    0\n",
       "prev_mh_benefits                     368\n",
       "prev_mh_benefits_awareness           368\n",
       "prev_mh_discussion                   368\n",
       "prev_mh_anonimity                    368\n",
       "future_ph_specification                0\n",
       "why/why_not                          694\n",
       "mh_sharing_friends/fam_flag            0\n",
       "mh_bad_response_workplace             91\n",
       "mh_family_hist                         0\n",
       "mh_disorder_past                      15\n",
       "mh_disorder_current                    0\n",
       "age                                    2\n",
       "sex                                   24\n",
       "country_live                           2\n",
       "live_us_teritory                    1106\n",
       "country_work                           2\n",
       "work_us_teritory                    1086\n",
       "dtype: int64"
      ]
     },
     "execution_count": 156,
     "metadata": {},
     "output_type": "execute_result"
    }
   ],
   "source": [
    "mental_health.isnull().sum()"
   ]
  },
  {
   "cell_type": "code",
   "execution_count": 158,
   "metadata": {},
   "outputs": [
    {
     "data": {
      "text/html": [
       "<div>\n",
       "<style scoped>\n",
       "    .dataframe tbody tr th:only-of-type {\n",
       "        vertical-align: middle;\n",
       "    }\n",
       "\n",
       "    .dataframe tbody tr th {\n",
       "        vertical-align: top;\n",
       "    }\n",
       "\n",
       "    .dataframe thead th {\n",
       "        text-align: right;\n",
       "    }\n",
       "</style>\n",
       "<table border=\"1\" class=\"dataframe\">\n",
       "  <thead>\n",
       "    <tr style=\"text-align: right;\">\n",
       "      <th></th>\n",
       "      <th>self_empl_flag</th>\n",
       "      <th>comp_no_empl</th>\n",
       "      <th>tech_comp_flag</th>\n",
       "      <th>tech_role_flag</th>\n",
       "      <th>mh_employer_discussion</th>\n",
       "      <th>mh_anonimity_flag</th>\n",
       "      <th>mh_diagnosed&amp;reveal_clients_flag</th>\n",
       "      <th>mh_diagnosed&amp;reveal_cowork_flag</th>\n",
       "      <th>mh_prod_impact</th>\n",
       "      <th>mh_prod_impact_perc</th>\n",
       "      <th>...</th>\n",
       "      <th>mh_bad_response_workplace</th>\n",
       "      <th>mh_family_hist</th>\n",
       "      <th>mh_disorder_past</th>\n",
       "      <th>mh_disorder_current</th>\n",
       "      <th>age</th>\n",
       "      <th>sex</th>\n",
       "      <th>country_live</th>\n",
       "      <th>live_us_teritory</th>\n",
       "      <th>country_work</th>\n",
       "      <th>work_us_teritory</th>\n",
       "    </tr>\n",
       "  </thead>\n",
       "  <tbody>\n",
       "    <tr>\n",
       "      <th>0</th>\n",
       "      <td>0</td>\n",
       "      <td>26-100</td>\n",
       "      <td>1</td>\n",
       "      <td>NaN</td>\n",
       "      <td>No</td>\n",
       "      <td>I don't know</td>\n",
       "      <td>NaN</td>\n",
       "      <td>NaN</td>\n",
       "      <td>NaN</td>\n",
       "      <td>NaN</td>\n",
       "      <td>...</td>\n",
       "      <td>No</td>\n",
       "      <td>No</td>\n",
       "      <td>Yes</td>\n",
       "      <td>No</td>\n",
       "      <td>39.0</td>\n",
       "      <td>1.0</td>\n",
       "      <td>UK</td>\n",
       "      <td>NaN</td>\n",
       "      <td>UK</td>\n",
       "      <td>NaN</td>\n",
       "    </tr>\n",
       "    <tr>\n",
       "      <th>1</th>\n",
       "      <td>0</td>\n",
       "      <td>6-25</td>\n",
       "      <td>1</td>\n",
       "      <td>NaN</td>\n",
       "      <td>Yes</td>\n",
       "      <td>Yes</td>\n",
       "      <td>NaN</td>\n",
       "      <td>NaN</td>\n",
       "      <td>NaN</td>\n",
       "      <td>NaN</td>\n",
       "      <td>...</td>\n",
       "      <td>No</td>\n",
       "      <td>Yes</td>\n",
       "      <td>Yes</td>\n",
       "      <td>Yes</td>\n",
       "      <td>29.0</td>\n",
       "      <td>1.0</td>\n",
       "      <td>USA</td>\n",
       "      <td>Illinois</td>\n",
       "      <td>USA</td>\n",
       "      <td>Illinois</td>\n",
       "    </tr>\n",
       "    <tr>\n",
       "      <th>2</th>\n",
       "      <td>0</td>\n",
       "      <td>6-25</td>\n",
       "      <td>1</td>\n",
       "      <td>NaN</td>\n",
       "      <td>No</td>\n",
       "      <td>I don't know</td>\n",
       "      <td>NaN</td>\n",
       "      <td>NaN</td>\n",
       "      <td>NaN</td>\n",
       "      <td>NaN</td>\n",
       "      <td>...</td>\n",
       "      <td>Maybe/Not sure</td>\n",
       "      <td>No</td>\n",
       "      <td>Maybe</td>\n",
       "      <td>No</td>\n",
       "      <td>38.0</td>\n",
       "      <td>1.0</td>\n",
       "      <td>UK</td>\n",
       "      <td>NaN</td>\n",
       "      <td>UK</td>\n",
       "      <td>NaN</td>\n",
       "    </tr>\n",
       "    <tr>\n",
       "      <th>3</th>\n",
       "      <td>1</td>\n",
       "      <td>NaN</td>\n",
       "      <td>NaN</td>\n",
       "      <td>NaN</td>\n",
       "      <td>NaN</td>\n",
       "      <td>NaN</td>\n",
       "      <td>Sometimes, if it comes up</td>\n",
       "      <td>Sometimes, if it comes up</td>\n",
       "      <td>Yes</td>\n",
       "      <td>1-25%</td>\n",
       "      <td>...</td>\n",
       "      <td>No</td>\n",
       "      <td>No</td>\n",
       "      <td>Yes</td>\n",
       "      <td>Yes</td>\n",
       "      <td>43.0</td>\n",
       "      <td>1.0</td>\n",
       "      <td>UK</td>\n",
       "      <td>NaN</td>\n",
       "      <td>UK</td>\n",
       "      <td>NaN</td>\n",
       "    </tr>\n",
       "    <tr>\n",
       "      <th>4</th>\n",
       "      <td>0</td>\n",
       "      <td>6-25</td>\n",
       "      <td>0</td>\n",
       "      <td>1</td>\n",
       "      <td>No</td>\n",
       "      <td>No</td>\n",
       "      <td>NaN</td>\n",
       "      <td>NaN</td>\n",
       "      <td>NaN</td>\n",
       "      <td>NaN</td>\n",
       "      <td>...</td>\n",
       "      <td>Yes, I experienced</td>\n",
       "      <td>Yes</td>\n",
       "      <td>Yes</td>\n",
       "      <td>Yes</td>\n",
       "      <td>43.0</td>\n",
       "      <td>2.0</td>\n",
       "      <td>USA</td>\n",
       "      <td>Illinois</td>\n",
       "      <td>USA</td>\n",
       "      <td>Illinois</td>\n",
       "    </tr>\n",
       "  </tbody>\n",
       "</table>\n",
       "<p>5 rows × 28 columns</p>\n",
       "</div>"
      ],
      "text/plain": [
       "   self_empl_flag comp_no_empl tech_comp_flag tech_role_flag  \\\n",
       "0               0       26-100              1            NaN   \n",
       "1               0         6-25              1            NaN   \n",
       "2               0         6-25              1            NaN   \n",
       "3               1          NaN            NaN            NaN   \n",
       "4               0         6-25              0              1   \n",
       "\n",
       "  mh_employer_discussion mh_anonimity_flag mh_diagnosed&reveal_clients_flag  \\\n",
       "0                     No      I don't know                              NaN   \n",
       "1                    Yes               Yes                              NaN   \n",
       "2                     No      I don't know                              NaN   \n",
       "3                    NaN               NaN        Sometimes, if it comes up   \n",
       "4                     No                No                              NaN   \n",
       "\n",
       "  mh_diagnosed&reveal_cowork_flag mh_prod_impact mh_prod_impact_perc  ...  \\\n",
       "0                             NaN            NaN                 NaN  ...   \n",
       "1                             NaN            NaN                 NaN  ...   \n",
       "2                             NaN            NaN                 NaN  ...   \n",
       "3       Sometimes, if it comes up            Yes               1-25%  ...   \n",
       "4                             NaN            NaN                 NaN  ...   \n",
       "\n",
       "   mh_bad_response_workplace mh_family_hist mh_disorder_past  \\\n",
       "0                         No             No              Yes   \n",
       "1                         No            Yes              Yes   \n",
       "2             Maybe/Not sure             No            Maybe   \n",
       "3                         No             No              Yes   \n",
       "4         Yes, I experienced            Yes              Yes   \n",
       "\n",
       "  mh_disorder_current   age  sex country_live live_us_teritory country_work  \\\n",
       "0                  No  39.0  1.0           UK              NaN           UK   \n",
       "1                 Yes  29.0  1.0          USA         Illinois          USA   \n",
       "2                  No  38.0  1.0           UK              NaN           UK   \n",
       "3                 Yes  43.0  1.0           UK              NaN           UK   \n",
       "4                 Yes  43.0  2.0          USA         Illinois          USA   \n",
       "\n",
       "  work_us_teritory  \n",
       "0              NaN  \n",
       "1         Illinois  \n",
       "2              NaN  \n",
       "3              NaN  \n",
       "4         Illinois  \n",
       "\n",
       "[5 rows x 28 columns]"
      ]
     },
     "execution_count": 158,
     "metadata": {},
     "output_type": "execute_result"
    }
   ],
   "source": [
    "mental_health.head()"
   ]
  },
  {
   "cell_type": "code",
   "execution_count": 159,
   "metadata": {},
   "outputs": [],
   "source": [
    "#mental_health.to_csv(r'mental_health.csv')"
   ]
  },
  {
   "cell_type": "code",
   "execution_count": null,
   "metadata": {},
   "outputs": [],
   "source": []
  }
 ],
 "metadata": {
  "kernelspec": {
   "display_name": "Python 3",
   "language": "python",
   "name": "python3"
  },
  "language_info": {
   "codemirror_mode": {
    "name": "ipython",
    "version": 3
   },
   "file_extension": ".py",
   "mimetype": "text/x-python",
   "name": "python",
   "nbconvert_exporter": "python",
   "pygments_lexer": "ipython3",
   "version": "3.7.3"
  }
 },
 "nbformat": 4,
 "nbformat_minor": 2
}
